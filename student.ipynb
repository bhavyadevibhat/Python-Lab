{
 "cells": [
  {
   "cell_type": "code",
   "execution_count": null,
   "id": "806e388a",
   "metadata": {},
   "outputs": [],
   "source": [
    "class student:\n",
    "    def __init__(self,regno,name,course,marks):\n",
    "        self.regno=regno\n",
    "        self.name=name\n",
    "        self.course=course\n",
    "        self.marks=marks\n",
    "    def studentdetails(self):\n",
    "        print(\"Register Number:\",self.regno)\n",
    "        print(\"Name:\",self.name)\n",
    "        print(\"Course:\",self.course)\n",
    "        print(\"Marks:\",self.marks)\n",
    "    def total(self):\n",
    "        print(\"TOtal marks:\",sum(marks))\n",
    "    def average(self):\n",
    "        total=sum(marks)\n",
    "        avg=total/5\n",
    "        print(\"Average:\",avg)\n",
    "    def grade(self):\n",
    "        total=sum(marks)\n",
    "        avg=total/5\n",
    "        if avg>=80 and avg<=100:\n",
    "            print(\"A Grade\")\n",
    "        elif avg>=60 and avg<80:\n",
    "            print(\"B Grade\")\n",
    "        elif avg>=45 and avg<60:\n",
    "            print(\"C Grade\")\n",
    "        elif avg>=35 and avg<45:\n",
    "            print(\"D Grade\")\n",
    "        elif avg<35:\n",
    "            print(\"Fail\")\n",
    "        else:\n",
    "            print(\"Invalid marks\")    \n",
    "regno=int(input(\"Enter Register Number:\"))\n",
    "name=input(\"Enter Name:\")\n",
    "course=input(\"Enter Course:\")\n",
    "marks=[]\n",
    "for i in range(5):\n",
    "          marks.append(int(input(\"Enter Mark:\")))\n",
    "std=student(regno,name,course,marks)\n",
    "std.studentdetails()\n",
    "std.total()\n",
    "std.average()\n",
    "std.grade()"
   ]
  }
 ],
 "metadata": {
  "kernelspec": {
   "display_name": "Python 3 (ipykernel)",
   "language": "python",
   "name": "python3"
  },
  "language_info": {
   "codemirror_mode": {
    "name": "ipython",
    "version": 3
   },
   "file_extension": ".py",
   "mimetype": "text/x-python",
   "name": "python",
   "nbconvert_exporter": "python",
   "pygments_lexer": "ipython3",
   "version": "3.11.5"
  }
 },
 "nbformat": 4,
 "nbformat_minor": 5
}
