{
 "cells": [
  {
   "cell_type": "code",
   "execution_count": 45,
   "id": "ace4e720",
   "metadata": {},
   "outputs": [
    {
     "name": "stdout",
     "output_type": "stream",
     "text": [
      "enter a string:Good Morning\n",
      "Good Morning\n",
      "Good Morni\n",
      "['Good', 'Morning']\n",
      "d \n",
      "Good Morning\n"
     ]
    }
   ],
   "source": [
    "s=input(\"enter a string:\")\n",
    "print(s)\n",
    "print(s[:len(s)-2])\n",
    "print(s.split(\" \"))\n",
    "print(s[3:5])\n",
    "print(s)"
   ]
  },
  {
   "cell_type": "code",
   "execution_count": 14,
   "id": "8b7d9195",
   "metadata": {},
   "outputs": [
    {
     "name": "stdout",
     "output_type": "stream",
     "text": [
      "<class 'set'>\n",
      "enter a number of element :3\n",
      "Enter a list of element :6\n",
      "Enter a list of element :8\n",
      "Enter a list of element :4\n",
      "set : {8, 4, 6}\n"
     ]
    }
   ],
   "source": [
    "myset=set()\n",
    "print(type(myset))\n",
    "s=int(input(\"enter a number of element :\"))\n",
    "for i in range (0,s) :\n",
    "    element=int(input(\"Enter a list of element :\"))\n",
    "    myset.add(element)\n",
    "print(\"set :\",myset)"
   ]
  },
  {
   "cell_type": "code",
   "execution_count": 18,
   "id": "1ce8d288",
   "metadata": {},
   "outputs": [
    {
     "name": "stdout",
     "output_type": "stream",
     "text": [
      "The even numbers are : [6, 8]\n",
      "The Odd Numbers are : [3, 5, 3, 9]\n"
     ]
    }
   ],
   "source": [
    "n=[3,6,8,5,3,9]\n",
    "even=[]\n",
    "odd=[]\n",
    "negetive=[]\n",
    "for i in n:\n",
    "    if i<0:\n",
    "        negetive.append(i)\n",
    "    if i%2==0:\n",
    "        even.append(i)\n",
    "    else :\n",
    "        odd.append(i)\n",
    "print(\"The even numbers are :\",even)\n",
    "print(\"The Odd Numbers are :\",odd)\n",
    "print(\"The negetive numbers are:\",negetive)"
   ]
  },
  {
   "cell_type": "code",
   "execution_count": 28,
   "id": "e011c58d",
   "metadata": {},
   "outputs": [
    {
     "name": "stdout",
     "output_type": "stream",
     "text": [
      "Enter a number of element4\n",
      "Enter a list elements:5\n",
      "Enter a list elements:7\n",
      "Enter a list elements:-2\n",
      "Enter a list elements:7\n",
      "The even numbers are : [-2]\n",
      "The Odd Numbers are : [5, 7, 7]\n",
      "The negetive numbers are: [-2]\n"
     ]
    }
   ],
   "source": [
    "\n",
    "list1=[]  \n",
    "even=[]\n",
    "odd=[]\n",
    "negetive=[]\n",
    "n=int(input(\"Enter a number of element\"))\n",
    "for i in range(0,n):\n",
    "    list1.append(int(input(\"Enter a list elements:\")))\n",
    "    \n",
    "for i in list1:\n",
    "    if i<0:\n",
    "        negetive.append(i)\n",
    "    if i%2==0:\n",
    "        even.append(i)\n",
    "    else :\n",
    "        odd.append(i)\n",
    "print(\"The even numbers are :\",even)\n",
    "print(\"The Odd Numbers are :\",odd)\n",
    "print(\"The negetive numbers are:\",negetive)"
   ]
  },
  {
   "cell_type": "code",
   "execution_count": 34,
   "id": "f07e4c10",
   "metadata": {},
   "outputs": [
    {
     "name": "stdout",
     "output_type": "stream",
     "text": [
      "{'fruit': 'mango', 'vegitable': 'beans', 'juice': 'musambi'}\n",
      "key: fruit\n",
      "value: mango\n",
      "key: vegitable\n",
      "value: beans\n",
      "key: juice\n",
      "value: musambi\n"
     ]
    }
   ],
   "source": [
    "mydict={\"fruit\":\"mango\",\"vegitable\":\"beans\",\"juice\":\"musambi\"}\n",
    "print(mydict)\n",
    "for key in mydict :\n",
    "    print(\"key:\",key)\n",
    "    print(\"value:\",mydict[key])"
   ]
  },
  {
   "cell_type": "code",
   "execution_count": 35,
   "id": "29b952f8",
   "metadata": {},
   "outputs": [
    {
     "name": "stdout",
     "output_type": "stream",
     "text": [
      "Enter a number of elements:5\n",
      "Enter elements:3\n",
      "Enter elements:7\n",
      "Enter elements:9\n",
      "Enter elements:4\n",
      "Enter elements:6\n",
      "Tuple (3, 7, 9, 4, 6)\n"
     ]
    }
   ],
   "source": [
    "lst1=[]\n",
    "mytuple=()\n",
    "n=int(input(\"Enter a number of elements:\"))\n",
    "for i in range(0,n):\n",
    "    lst1.append(int(input(\"Enter elements:\")))\n",
    "    mytuple=tuple(lst1)\n",
    "print(\"Tuple\",mytuple)\n"
   ]
  },
  {
   "cell_type": "code",
   "execution_count": 38,
   "id": "771ad3b6",
   "metadata": {},
   "outputs": [
    {
     "name": "stdout",
     "output_type": "stream",
     "text": [
      "<class 'tuple'>\n",
      "tuple (6, 7, 4, 9, 5)\n",
      "slicing (7, 4, 9)\n"
     ]
    }
   ],
   "source": [
    "mytuple=(6,7,4,9,5)\n",
    "print(type(mytuple))\n",
    "print(\"tuple\",mytuple)\n",
    "print(\"slicing\",mytuple[1:4])"
   ]
  },
  {
   "cell_type": "code",
   "execution_count": 53,
   "id": "9ba15498",
   "metadata": {},
   "outputs": [
    {
     "name": "stdout",
     "output_type": "stream",
     "text": [
      "Enter number of elements:8\n",
      "enter elements:1\n",
      "enter elements:2\n",
      "enter elements:3\n",
      "enter elements:4\n",
      "enter elements:6\n",
      "enter elements:8\n",
      "enter elements:9\n",
      "enter elements:0\n",
      "{0, 1, 2, 3, 4, 6, 8, 9}\n",
      "Enter a number for adding in set :5\n",
      "{0, 1, 2, 3, 4, 5, 6, 8, 9}\n"
     ]
    }
   ],
   "source": [
    "myset=set()\n",
    "n=int(input(\"Enter number of elements:\"))\n",
    "for i in range(0,n):\n",
    "    myset.add(int(input(\"enter elements:\")))\n",
    "print(myset)\n",
    "x=int(input(\"Enter a number for adding in set :\"))\n",
    "for i in range(x):\n",
    "    myset.add(x)\n",
    "print(myset)"
   ]
  },
  {
   "cell_type": "code",
   "execution_count": null,
   "id": "1237e5d2",
   "metadata": {},
   "outputs": [],
   "source": []
  },
  {
   "cell_type": "code",
   "execution_count": null,
   "id": "8c0a6631",
   "metadata": {},
   "outputs": [],
   "source": []
  },
  {
   "cell_type": "code",
   "execution_count": null,
   "id": "e2612741",
   "metadata": {},
   "outputs": [],
   "source": []
  }
 ],
 "metadata": {
  "kernelspec": {
   "display_name": "Python 3 (ipykernel)",
   "language": "python",
   "name": "python3"
  },
  "language_info": {
   "codemirror_mode": {
    "name": "ipython",
    "version": 3
   },
   "file_extension": ".py",
   "mimetype": "text/x-python",
   "name": "python",
   "nbconvert_exporter": "python",
   "pygments_lexer": "ipython3",
   "version": "3.11.5"
  }
 },
 "nbformat": 4,
 "nbformat_minor": 5
}
