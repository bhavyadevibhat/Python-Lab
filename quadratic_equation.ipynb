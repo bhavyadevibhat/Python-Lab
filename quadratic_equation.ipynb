{
 "cells": [
  {
   "cell_type": "code",
   "execution_count": null,
   "id": "e0b70a70",
   "metadata": {},
   "outputs": [],
   "source": [
    "import math\n",
    "a=float(input(\"Enter the value of a:\"))\n",
    "b=float(input(\"Enter the value of b:\"))\n",
    "c=float(input(\"Enter the value of c:\"))\n",
    "discriminent=b**-4*a*c\n",
    "if(discriminent==0):\n",
    "    root= -b/(2*a)\n",
    "    print(\"Quadratic equation has two real,identical roots\")\n",
    "    print(\"root=\",root)\n",
    "elif(discriminent>0):\n",
    "    root1= (-b+ math.sqrt(discriminent))/(2*a)\n",
    "    root2= (-b- math.sqrt(discriminent))/(2*a)\n",
    "    print(\"quadratic equation has two real, different roots\")\n",
    "    print(\"root1={:.2f}\".format(root1))\n",
    "    print(\"root2={:.2f}\".format(root2))\n",
    "else:\n",
    "    print(\"quadratic equation has no real roots\")\n",
    "    positivesqrt=math.sqrt(abs(discriminent))\n",
    "    print(\"Root1=\",-b/(2*a),\"+{:.2f}\".format(positivesqrt/(2*a)),\"i\")\n",
    "    print(\"Root1=\",-b/(2*a),\"-{:.2f}\".format(positivesqrt/(2*a)),\"i\")\n",
    "    \n",
    "    \n",
    "\n",
    "    \n",
    "    \n",
    "        "
   ]
  }
 ],
 "metadata": {
  "kernelspec": {
   "display_name": "Python 3 (ipykernel)",
   "language": "python",
   "name": "python3"
  },
  "language_info": {
   "codemirror_mode": {
    "name": "ipython",
    "version": 3
   },
   "file_extension": ".py",
   "mimetype": "text/x-python",
   "name": "python",
   "nbconvert_exporter": "python",
   "pygments_lexer": "ipython3",
   "version": "3.11.5"
  }
 },
 "nbformat": 4,
 "nbformat_minor": 5
}
