{
 "cells": [
  {
   "cell_type": "code",
   "execution_count": 9,
   "id": "a1600de6",
   "metadata": {},
   "outputs": [
    {
     "name": "stdout",
     "output_type": "stream",
     "text": [
      "Original string: Department of Computer Science Mangalore university Mangalagangothri Dakshina Kannada\n",
      "\n",
      "Afer splitting: ['Department', 'of', 'Computer', 'Science', 'Mangalore', 'university', 'Mangalagangothri', 'Dakshina', 'Kannada']\n",
      "University index 5\n"
     ]
    }
   ],
   "source": [
    "txt=\"Department of Computer Science Mangalore university Mangalagangothri Dakshina Kannada\"\n",
    "list1=list(txt.split(\" \"))\n",
    "print(\"Original string:\",txt)\n",
    "print()\n",
    "print(\"Afer splitting:\",list1)\n",
    "print(\"University index\",list1.index('university'))"
   ]
  },
  {
   "cell_type": "code",
   "execution_count": 10,
   "id": "5ac510e5",
   "metadata": {},
   "outputs": [
    {
     "name": "stdout",
     "output_type": "stream",
     "text": [
      "original string: Department of Computer Science Mangalore university Mangalagangothri Dakshina Kannada\n",
      "\n",
      "list after splitting: ['Department', 'of', 'Computer', 'Science', 'Mangalore', 'university', 'Mangalagangothri', 'Dakshina']\n",
      "\n",
      "Index of string University: 5\n"
     ]
    }
   ],
   "source": [
    "txt=\"Department of Computer Science Mangalore university Mangalagangothri Dakshina Kannada\"\n",
    "list1=[]\n",
    "temp=''\n",
    "index=-1\n",
    "for char in txt:\n",
    "    if char==' ':\n",
    "        list1.append(temp)\n",
    "        temp=''\n",
    "    else:\n",
    "        temp+=char\n",
    "for i in range(len(list1)):\n",
    "    if list1[i]=='university':\n",
    "        index=i\n",
    "print(\"original string:\",txt)\n",
    "print()\n",
    "print(\"list after splitting:\",list1)\n",
    "print()\n",
    "print(\"Index of string University:\",index)"
   ]
  },
  {
   "cell_type": "code",
   "execution_count": 12,
   "id": "b101815f",
   "metadata": {},
   "outputs": [
    {
     "name": "stdout",
     "output_type": "stream",
     "text": [
      "('hello', 'Good Morning')\n",
      "<class 'tuple'>\n"
     ]
    }
   ],
   "source": [
    "tuple1=(\"hello\",\"Good Morning\")\n",
    "print(tuple1)\n",
    "print(type(tuple1))"
   ]
  },
  {
   "cell_type": "code",
   "execution_count": 16,
   "id": "9237b5c9",
   "metadata": {},
   "outputs": [
    {
     "name": "stdout",
     "output_type": "stream",
     "text": [
      "<class 'str'>\n",
      "Hello\n",
      "<class 'tuple'>\n",
      "('Namaste',)\n"
     ]
    }
   ],
   "source": [
    "tuple1=\"Hello\"\n",
    "print(type(tuple1))\n",
    "print(tuple1)\n",
    "tuple2=\"Namaste\",\n",
    "print(type(tuple2))\n",
    "print(tuple2)"
   ]
  },
  {
   "cell_type": "code",
   "execution_count": 22,
   "id": "461adce0",
   "metadata": {},
   "outputs": [
    {
     "name": "stdout",
     "output_type": "stream",
     "text": [
      "('John', [23, 57], (6, 8), ['Good Morning'])\n",
      "('John', [20, 57], (6, 8), ['Good Morning'])\n"
     ]
    },
    {
     "ename": "TypeError",
     "evalue": "'tuple' object does not support item assignment",
     "output_type": "error",
     "traceback": [
      "\u001b[1;31m---------------------------------------------------------------------------\u001b[0m",
      "\u001b[1;31mTypeError\u001b[0m                                 Traceback (most recent call last)",
      "Cell \u001b[1;32mIn[22], line 5\u001b[0m\n\u001b[0;32m      3\u001b[0m tuple1[\u001b[38;5;241m1\u001b[39m][\u001b[38;5;241m0\u001b[39m]\u001b[38;5;241m=\u001b[39m\u001b[38;5;241m20\u001b[39m\n\u001b[0;32m      4\u001b[0m \u001b[38;5;28mprint\u001b[39m(tuple1)\n\u001b[1;32m----> 5\u001b[0m tuple1[\u001b[38;5;241m0\u001b[39m]\u001b[38;5;241m=\u001b[39m\u001b[38;5;124m\"\u001b[39m\u001b[38;5;124mjack\u001b[39m\u001b[38;5;124m\"\u001b[39m\n\u001b[0;32m      6\u001b[0m tuple1[\u001b[38;5;241m3\u001b[39m][\u001b[38;5;241m1\u001b[39m]\u001b[38;5;241m=\u001b[39m\u001b[38;5;124m\"\u001b[39m\u001b[38;5;124mAfternoon\u001b[39m\u001b[38;5;124m\"\u001b[39m\n",
      "\u001b[1;31mTypeError\u001b[0m: 'tuple' object does not support item assignment"
     ]
    }
   ],
   "source": [
    "tuple1=(\"John\",[23,57],(6,8),[\"Good Morning\"])\n",
    "print(tuple1)\n",
    "tuple1[1][0]=20\n",
    "print(tuple1)\n",
    "tuple1[0]=\"jack\"\n",
    "tuple1[3][1]=\"Afternoon\""
   ]
  },
  {
   "cell_type": "code",
   "execution_count": 23,
   "id": "34bc047b",
   "metadata": {},
   "outputs": [
    {
     "name": "stdout",
     "output_type": "stream",
     "text": [
      "('John', [23, 57], (6, 8), ['Good Morning'])\n",
      "('John', [20, 57], (6, 8), ['Good Morning'])\n"
     ]
    },
    {
     "ename": "IndexError",
     "evalue": "list assignment index out of range",
     "output_type": "error",
     "traceback": [
      "\u001b[1;31m---------------------------------------------------------------------------\u001b[0m",
      "\u001b[1;31mIndexError\u001b[0m                                Traceback (most recent call last)",
      "Cell \u001b[1;32mIn[23], line 5\u001b[0m\n\u001b[0;32m      3\u001b[0m tuple1[\u001b[38;5;241m1\u001b[39m][\u001b[38;5;241m0\u001b[39m]\u001b[38;5;241m=\u001b[39m\u001b[38;5;241m20\u001b[39m\n\u001b[0;32m      4\u001b[0m \u001b[38;5;28mprint\u001b[39m(tuple1)\n\u001b[1;32m----> 5\u001b[0m tuple1[\u001b[38;5;241m3\u001b[39m][\u001b[38;5;241m1\u001b[39m]\u001b[38;5;241m=\u001b[39m\u001b[38;5;124m\"\u001b[39m\u001b[38;5;124mAfternoon\u001b[39m\u001b[38;5;124m\"\u001b[39m\n",
      "\u001b[1;31mIndexError\u001b[0m: list assignment index out of range"
     ]
    }
   ],
   "source": [
    "tuple1=(\"John\",[23,57],(6,8),[\"Good Morning\"])\n",
    "print(tuple1)\n",
    "tuple1[1][0]=20\n",
    "print(tuple1)\n",
    "tuple1[3][1]=\"Afternoon\""
   ]
  },
  {
   "cell_type": "code",
   "execution_count": 41,
   "id": "792c797f",
   "metadata": {},
   "outputs": [
    {
     "name": "stdout",
     "output_type": "stream",
     "text": [
      "(6, 7, 4, 3, 9, 7)\n",
      "Count of 7 is: 2\n",
      "Index of 3 is: 3\n",
      "length of tuple is: 6\n",
      "Maximum Number in tuple: 9\n",
      "Minimum Number in tuple: 3\n",
      "Numbers in sorting order: [3, 4, 6, 7, 7, 9]\n",
      "Sum of numbers: 36\n",
      "Iterable: (0, 1, 2, 3, 4)\n",
      "string converted into tuple is: ('h', 'e', 'l', 'l', 'o')\n",
      "0 : 6\n",
      "1 : 7\n",
      "2 : 4\n",
      "3 : 3\n",
      "4 : 9\n",
      "5 : 7\n"
     ]
    }
   ],
   "source": [
    "tuple1=(6,7,4,3,9,7)\n",
    "print(tuple1)\n",
    "print(\"Count of 7 is:\",tuple1.count(7))\n",
    "print(\"Index of 3 is:\",tuple1.index(3))\n",
    "print(\"length of tuple is:\",len(tuple1))\n",
    "print(\"Maximum Number in tuple:\",max(tuple1))\n",
    "print(\"Minimum Number in tuple:\",min(tuple1))\n",
    "print(\"Numbers in sorting order:\",sorted(tuple1))\n",
    "print(\"Sum of numbers:\",sum(tuple1))\n",
    "str1=\"hello\"\n",
    "tuple2=tuple(str1)\n",
    "tuple3=tuple(i for i in range(5))\n",
    "print(\"Iterable:\",tuple3)\n",
    "print(\"string converted into tuple is:\",tuple2)\n",
    "for i,val in enumerate(tuple1):\n",
    "    print( i,\":\",val)"
   ]
  },
  {
   "cell_type": "code",
   "execution_count": 44,
   "id": "8b289aaa",
   "metadata": {},
   "outputs": [
    {
     "name": "stdout",
     "output_type": "stream",
     "text": [
      "After Concatination: (7, 6, 5, 4, 3, 2)\n",
      "After repitition: (7, 6, 5, 7, 6, 5)\n"
     ]
    }
   ],
   "source": [
    "tuple1=(7,6,5)\n",
    "tuple2=(4,3,2)\n",
    "concatination=tuple1+tuple2\n",
    "print(\"After Concatination:\",concatination)\n",
    "repetable=tuple1*2\n",
    "print(\"After repitition:\",repetable)\n"
   ]
  },
  {
   "cell_type": "code",
   "execution_count": 56,
   "id": "17990340",
   "metadata": {},
   "outputs": [
    {
     "name": "stdout",
     "output_type": "stream",
     "text": [
      "Enter Size:5\n",
      "Enter element:5\n",
      "Enter element:8\n",
      "Enter element:7\n",
      "Enter element:6\n",
      "Enter element:3\n",
      "Original List is: [5, 8, 7, 6, 3]\n",
      "1.Insert\n",
      " 2.Remove\n",
      " 3.Append\n",
      " 4.Len\n",
      " 5.Pop\n",
      " 6.Clear\n",
      " 7.Exit\n",
      "Enter your Choice:1\n",
      "Enter Element to insert9\n",
      "Enter Index value:5\n",
      "After insertion [5, 8, 7, 6, 3, 9]\n",
      "1.Insert\n",
      " 2.Remove\n",
      " 3.Append\n",
      " 4.Len\n",
      " 5.Pop\n",
      " 6.Clear\n",
      " 7.Exit\n",
      "Enter your Choice:2\n",
      "Enter value to delete:3\n",
      "After Removing the list is: [5, 8, 7, 6, 9]\n",
      "1.Insert\n",
      " 2.Remove\n",
      " 3.Append\n",
      " 4.Len\n",
      " 5.Pop\n",
      " 6.Clear\n",
      " 7.Exit\n",
      "Enter your Choice:3\n",
      "Enter a value to append10\n",
      "After appending: [5, 8, 7, 6, 9, 10]\n",
      "1.Insert\n",
      " 2.Remove\n",
      " 3.Append\n",
      " 4.Len\n",
      " 5.Pop\n",
      " 6.Clear\n",
      " 7.Exit\n",
      "Enter your Choice:4\n",
      "The length of list is: 6\n",
      "1.Insert\n",
      " 2.Remove\n",
      " 3.Append\n",
      " 4.Len\n",
      " 5.Pop\n",
      " 6.Clear\n",
      " 7.Exit\n",
      "Enter your Choice:5\n",
      "The poped element is: 10\n",
      "After poping the list is: [5, 8, 7, 6, 9]\n",
      "1.Insert\n",
      " 2.Remove\n",
      " 3.Append\n",
      " 4.Len\n",
      " 5.Pop\n",
      " 6.Clear\n",
      " 7.Exit\n",
      "Enter your Choice:6\n",
      "The list is empty! []\n",
      "1.Insert\n",
      " 2.Remove\n",
      " 3.Append\n",
      " 4.Len\n",
      " 5.Pop\n",
      " 6.Clear\n",
      " 7.Exit\n",
      "Enter your Choice:7\n"
     ]
    }
   ],
   "source": [
    "list1=[]\n",
    "n=int(input(\"Enter Size:\"))\n",
    "for i in range(n):\n",
    "    list1.append(int(input(\"Enter element:\")))\n",
    "print(\"Original List is:\",list1)\n",
    "while(1):\n",
    "    print(\"1.Insert\\n 2.Remove\\n 3.Append\\n 4.Len\\n 5.Pop\\n 6.Clear\\n 7.Exit\")\n",
    "    ch=int(input(\"Enter your Choice:\"))\n",
    "    if ch==1:\n",
    "        ele=int(input(\"Enter Element to insert\"))\n",
    "        index=int(input(\"Enter Index value:\"))\n",
    "        list1.insert(index,ele)\n",
    "        print(\"After insertion\",list1)\n",
    "    elif ch==2:\n",
    "        ele=int(input(\"Enter value to delete:\"))\n",
    "        if ele in list1:\n",
    "            list1.remove(ele)\n",
    "            print(\"After Removing the list is:\",list1)\n",
    "        else:\n",
    "            print(\"Element Not found in list!\")  \n",
    "    elif ch==3:\n",
    "        ele=int(input(\"Enter a value to append\"))\n",
    "        list1.append(ele)\n",
    "        print(\"After appending:\",list1)\n",
    "    elif ch==4:\n",
    "        print(\"The length of list is:\",len(list1))\n",
    "    elif ch==5:\n",
    "        ele=list1.pop()\n",
    "        print(\"The poped element is:\",ele)\n",
    "        print(\"After poping the list is:\",list1)\n",
    "    elif ch==6:\n",
    "        list1.clear()\n",
    "        print(\"The list is empty!\",list1)\n",
    "    elif ch==7:\n",
    "        break\n",
    "    else:\n",
    "        print(\"invalid Input!!\")\n"
   ]
  },
  {
   "cell_type": "code",
   "execution_count": 54,
   "id": "1b2ecb5f",
   "metadata": {},
   "outputs": [
    {
     "ename": "ValueError",
     "evalue": "list.remove(x): x not in list",
     "output_type": "error",
     "traceback": [
      "\u001b[1;31m---------------------------------------------------------------------------\u001b[0m",
      "\u001b[1;31mValueError\u001b[0m                                Traceback (most recent call last)",
      "Cell \u001b[1;32mIn[54], line 2\u001b[0m\n\u001b[0;32m      1\u001b[0m list1\u001b[38;5;241m=\u001b[39m[]\n\u001b[1;32m----> 2\u001b[0m list1\u001b[38;5;241m.\u001b[39mremove(\u001b[38;5;241m5\u001b[39m)\n",
      "\u001b[1;31mValueError\u001b[0m: list.remove(x): x not in list"
     ]
    }
   ],
   "source": [
    "list1=[]\n",
    "list1.remove(5)"
   ]
  },
  {
   "cell_type": "code",
   "execution_count": 63,
   "id": "33325644",
   "metadata": {},
   "outputs": [
    {
     "name": "stdout",
     "output_type": "stream",
     "text": [
      "Enter a string: Hi Hello \n",
      "Enter a string: Everyone\n",
      "First text is: Hi Hello \n",
      "second text is: Everyone\n",
      "After Concatination: Hi Hello Everyone\n",
      "Substring of Concatinated String: Hello\n",
      "length of Concatinated String: 17\n",
      "Enter a character to find a indexo\n",
      "The index of character is: 7\n",
      "Slicing of concatinated string: Hello Everyone\n",
      "Two String are not equal\n"
     ]
    }
   ],
   "source": [
    "txt1=input(\"Enter a string: \")\n",
    "txt2=input(\"Enter a string: \")\n",
    "print(\"First text is:\",txt1)\n",
    "print(\"second text is:\",txt2)\n",
    "txt3=txt1+txt2\n",
    "print(\"After Concatination:\",txt3)\n",
    "print(\"Substring of Concatinated String:\",txt3[3:8])\n",
    "print(\"length of Concatinated String:\",len(txt3))\n",
    "ch=input(\"Enter a character to find a index\")\n",
    "if ch in txt3:\n",
    "      print(\"The index of character is:\",txt3.index(ch))\n",
    "else:\n",
    "      print(\"Character not found\")\n",
    "print(\"Slicing of concatinated string:\",txt3[3:])\n",
    "if txt1==txt2:\n",
    "    print(\"Two String are equal\")\n",
    "else:\n",
    "    print(\"Two String are not equal\")\n"
   ]
  },
  {
   "cell_type": "code",
   "execution_count": null,
   "id": "0b3f17a5",
   "metadata": {},
   "outputs": [],
   "source": []
  }
 ],
 "metadata": {
  "kernelspec": {
   "display_name": "Python 3 (ipykernel)",
   "language": "python",
   "name": "python3"
  },
  "language_info": {
   "codemirror_mode": {
    "name": "ipython",
    "version": 3
   },
   "file_extension": ".py",
   "mimetype": "text/x-python",
   "name": "python",
   "nbconvert_exporter": "python",
   "pygments_lexer": "ipython3",
   "version": "3.11.5"
  }
 },
 "nbformat": 4,
 "nbformat_minor": 5
}
