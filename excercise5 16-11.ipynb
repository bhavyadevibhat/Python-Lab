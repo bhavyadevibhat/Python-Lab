{
 "cells": [
  {
   "cell_type": "code",
   "execution_count": 7,
   "id": "ca6c9504",
   "metadata": {},
   "outputs": [
    {
     "ename": "TypeError",
     "evalue": "'>' not supported between instances of 'int' and 'str'",
     "output_type": "error",
     "traceback": [
      "\u001b[1;31m---------------------------------------------------------------------------\u001b[0m",
      "\u001b[1;31mTypeError\u001b[0m                                 Traceback (most recent call last)",
      "Cell \u001b[1;32mIn[7], line 3\u001b[0m\n\u001b[0;32m      1\u001b[0m list1\u001b[38;5;241m=\u001b[39m[\u001b[38;5;124m\"\u001b[39m\u001b[38;5;124marun\u001b[39m\u001b[38;5;124m\"\u001b[39m,\u001b[38;5;124m\"\u001b[39m\u001b[38;5;124manish\u001b[39m\u001b[38;5;124m\"\u001b[39m,\u001b[38;5;241m4\u001b[39m,\u001b[38;5;241m8\u001b[39m,\u001b[38;5;124m\"\u001b[39m\u001b[38;5;124mbhavya\u001b[39m\u001b[38;5;124m\"\u001b[39m,\u001b[38;5;241m6\u001b[39m]\n\u001b[1;32m----> 3\u001b[0m b\u001b[38;5;241m=\u001b[39m\u001b[38;5;28;43mmax\u001b[39;49m\u001b[43m(\u001b[49m\u001b[43mlist1\u001b[49m\u001b[43m)\u001b[49m\n\u001b[0;32m      4\u001b[0m c\u001b[38;5;241m=\u001b[39m\u001b[38;5;28mlen\u001b[39m(list1)\n\u001b[0;32m      6\u001b[0m \u001b[38;5;28mprint\u001b[39m(b)\n",
      "\u001b[1;31mTypeError\u001b[0m: '>' not supported between instances of 'int' and 'str'"
     ]
    }
   ],
   "source": [
    "list1=[\"arun\",\"anish\",4,8,\"bhavya\",6]\n",
    "\n",
    "b=max(list1)\n",
    "c=len(list1)\n",
    "\n",
    "print(b)\n",
    "print(c)"
   ]
  },
  {
   "cell_type": "code",
   "execution_count": 8,
   "id": "b8d9d3b5",
   "metadata": {},
   "outputs": [
    {
     "name": "stdout",
     "output_type": "stream",
     "text": [
      "139 56 3\n"
     ]
    }
   ],
   "source": [
    "list1=[30,50,56,3]\n",
    "a=sum(list1)\n",
    "b=max(list1)\n",
    "c=min(list1)\n",
    "print(a,b,c)"
   ]
  },
  {
   "cell_type": "code",
   "execution_count": 11,
   "id": "1c573812",
   "metadata": {},
   "outputs": [
    {
     "name": "stdout",
     "output_type": "stream",
     "text": [
      "anu Arun\n",
      "['anu', 'anish', 'Arun', 'Shikandar', 'anu', 'anish', 'Arun', 'Shikandar', 'anu', 'anish', 'Arun', 'Shikandar']\n"
     ]
    }
   ],
   "source": [
    "list1=[\"anu\",\"anish\",\"Arun\",\"Shikandar\"]\n",
    "\n",
    "b=max(list1)\n",
    "c=min(list1)\n",
    "print(b,c)\n",
    "list2=list1*3\n",
    "print(list2)"
   ]
  },
  {
   "cell_type": "code",
   "execution_count": 18,
   "id": "b707c756",
   "metadata": {},
   "outputs": [
    {
     "name": "stdout",
     "output_type": "stream",
     "text": [
      "enter a number123\n",
      "Number is not palindrome\n"
     ]
    }
   ],
   "source": [
    "num=int(input(\"enter a number\"))\n",
    "temp=num\n",
    "rev=0\n",
    "while(num>0):\n",
    "    rem=num % 10\n",
    "    \n",
    "    rev=(rev * 10) + rem\n",
    "    num=num // 10\n",
    "if(temp==rev):\n",
    "    print(\"Enterd number is palindrome\")\n",
    "else:\n",
    "    print(\"Number is not palindrome\")"
   ]
  },
  {
   "cell_type": "code",
   "execution_count": 20,
   "id": "b6a4f775",
   "metadata": {},
   "outputs": [
    {
     "name": "stdout",
     "output_type": "stream",
     "text": [
      "Enter size:10\n",
      "1\n",
      "2\n",
      "4\n",
      "8\n",
      "16\n",
      "32\n",
      "64\n",
      "128\n",
      "256\n",
      "512\n"
     ]
    }
   ],
   "source": [
    "n=int(input(\"Enter size:\"))\n",
    "for i in range(n):\n",
    "    print(2**i)"
   ]
  },
  {
   "cell_type": "code",
   "execution_count": 41,
   "id": "18ed714c",
   "metadata": {},
   "outputs": [
    {
     "name": "stdout",
     "output_type": "stream",
     "text": [
      "Enter size:5\n",
      "Natural numbers are:\n",
      "1 2 3 4 5 \n",
      "the sum is 15\n"
     ]
    }
   ],
   "source": [
    "\n",
    "sum1=0\n",
    "i=1\n",
    "n=int(input(\"Enter size:\"))\n",
    "print(\"Natural numbers are:\")\n",
    "while(i<=n):\n",
    "    print(i,end=\" \")\n",
    "    sum1+=i;\n",
    "    i+=1;\n",
    "print(\"\\nthe sum is\",sum1)"
   ]
  },
  {
   "cell_type": "code",
   "execution_count": 32,
   "id": "67d39f6c",
   "metadata": {},
   "outputs": [
    {
     "name": "stdout",
     "output_type": "stream",
     "text": [
      "enter number of lines:5\n",
      "\n",
      "* \n",
      "* * \n",
      "* * * \n",
      "* * * * \n",
      "* * * * * \n"
     ]
    }
   ],
   "source": [
    "n=int(input(\"enter number of lines:\"))\n",
    "for i in range(n):\n",
    "    for  j in range(i+1):\n",
    "        print(\"*\",end=\" \")\n",
    "    print()\n"
   ]
  },
  {
   "cell_type": "code",
   "execution_count": 39,
   "id": "08736fc2",
   "metadata": {},
   "outputs": [
    {
     "name": "stdout",
     "output_type": "stream",
     "text": [
      "enter number of lines:5\n",
      "* * * * * \n",
      "* * * * \n",
      "* * * \n",
      "* * \n",
      "* \n"
     ]
    }
   ],
   "source": [
    "n=int(input(\"enter number of lines:\"))\n",
    "for i in range(n,0,-1):\n",
    "    for  j in range(i):\n",
    "        print(\"*\",end=\" \")\n",
    "    print()\n"
   ]
  },
  {
   "cell_type": "code",
   "execution_count": 42,
   "id": "d9082d93",
   "metadata": {},
   "outputs": [
    {
     "name": "stdout",
     "output_type": "stream",
     "text": [
      "enter number of lines:5\n",
      "A \n",
      "A B \n",
      "A B C \n",
      "A B C D \n",
      "A B C D E \n"
     ]
    }
   ],
   "source": [
    "n=int(input(\"enter number of lines:\"))\n",
    "for i in range(n):\n",
    "    ch=65\n",
    "    for  j in range(i+1):\n",
    "        print(chr(ch),end=\" \")\n",
    "        ch+=1\n",
    "    print()"
   ]
  },
  {
   "cell_type": "code",
   "execution_count": 44,
   "id": "bb087301",
   "metadata": {},
   "outputs": [
    {
     "name": "stdout",
     "output_type": "stream",
     "text": [
      "enter number of lines:5\n",
      "     * \n",
      "    * * \n",
      "   * * * \n",
      "  * * * * \n",
      " * * * * * \n"
     ]
    }
   ],
   "source": [
    "n=int(input(\"enter number of lines:\"))\n",
    "for i in range(n):\n",
    "    for j in range(n-i):\n",
    "        print(end=\" \")\n",
    "    for  k in range(i+1):\n",
    "        print(\"*\",end=\" \")\n",
    "    print()\n"
   ]
  },
  {
   "cell_type": "code",
   "execution_count": 46,
   "id": "c5088890",
   "metadata": {},
   "outputs": [
    {
     "name": "stdout",
     "output_type": "stream",
     "text": [
      "enter number of lines:5\n",
      "65 \n",
      "66 67 \n",
      "68 69 70 \n",
      "71 72 73 74 \n",
      "75 76 77 78 79 \n"
     ]
    }
   ],
   "source": [
    "n=int(input(\"enter number of lines:\"))\n",
    "ch=65\n",
    "for i in range(n):\n",
    "    \n",
    "    for  j in range(i+1):\n",
    "        print(ch,end=\" \")\n",
    "        ch+=1\n",
    "    print()"
   ]
  },
  {
   "cell_type": "code",
   "execution_count": 49,
   "id": "cf07defa",
   "metadata": {},
   "outputs": [
    {
     "name": "stdout",
     "output_type": "stream",
     "text": [
      "Enter size:5\n",
      "Natural numbers are:\n",
      "5 4 3 2 1 "
     ]
    }
   ],
   "source": [
    "\n",
    "num=int(input(\"Enter size:\"))\n",
    "print(\"Natural numbers are:\")\n",
    "while(num>0):\n",
    "    print(num,end=\" \")\n",
    "    num -=1\n",
    "    \n",
    "    \n",
    "\n"
   ]
  },
  {
   "cell_type": "code",
   "execution_count": 52,
   "id": "ef8509c5",
   "metadata": {},
   "outputs": [
    {
     "name": "stdout",
     "output_type": "stream",
     "text": [
      "Enter size:5\n",
      "Natural numbers are:\n",
      "5 4 3 2 1 "
     ]
    }
   ],
   "source": [
    "num=int(input(\"Enter size:\"))\n",
    "print(\"Natural numbers are:\")\n",
    "for i in range(num,0,-1):\n",
    "    print(i,end=\" \")"
   ]
  },
  {
   "cell_type": "code",
   "execution_count": 54,
   "id": "763e2f41",
   "metadata": {},
   "outputs": [
    {
     "name": "stdout",
     "output_type": "stream",
     "text": [
      "Enter size:10\n",
      "0 1 1 2 3 5 8 13 21 34 "
     ]
    }
   ],
   "source": [
    "num=int(input(\"Enter size:\"))\n",
    "f1=0\n",
    "f2=1\n",
    "for i in range(num):\n",
    "    print(f1,end=\" \")\n",
    "    f3=f1+f2\n",
    "    f1=f2\n",
    "    f2=f3\n",
    "    \n"
   ]
  },
  {
   "cell_type": "code",
   "execution_count": 59,
   "id": "35547027",
   "metadata": {},
   "outputs": [
    {
     "name": "stdout",
     "output_type": "stream",
     "text": [
      "Enter size:5\n",
      "factorial is: 120\n"
     ]
    }
   ],
   "source": [
    "num=int(input(\"Enter size:\"))\n",
    "fact=1\n",
    "for i in range(1,num+1):\n",
    "    fact *=i\n",
    "print(\"factorial is:\",fact)"
   ]
  },
  {
   "cell_type": "code",
   "execution_count": null,
   "id": "1964302d",
   "metadata": {},
   "outputs": [],
   "source": []
  },
  {
   "cell_type": "code",
   "execution_count": null,
   "id": "cd7d0c9b",
   "metadata": {},
   "outputs": [],
   "source": []
  }
 ],
 "metadata": {
  "kernelspec": {
   "display_name": "Python 3 (ipykernel)",
   "language": "python",
   "name": "python3"
  },
  "language_info": {
   "codemirror_mode": {
    "name": "ipython",
    "version": 3
   },
   "file_extension": ".py",
   "mimetype": "text/x-python",
   "name": "python",
   "nbconvert_exporter": "python",
   "pygments_lexer": "ipython3",
   "version": "3.9.18"
  }
 },
 "nbformat": 4,
 "nbformat_minor": 5
}
