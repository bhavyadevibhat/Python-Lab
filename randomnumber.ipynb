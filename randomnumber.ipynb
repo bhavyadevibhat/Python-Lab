{
 "cells": [
  {
   "cell_type": "code",
   "execution_count": 7,
   "id": "32b589f9",
   "metadata": {},
   "outputs": [
    {
     "name": "stdout",
     "output_type": "stream",
     "text": [
      "Enter a string:welcome\n",
      "e o e \n",
      "vowerlcount 3\n"
     ]
    }
   ],
   "source": [
    "str1=input(\"Enter a string:\")\n",
    "vowelcount=0\n",
    "for char in str1:\n",
    "    if char.lower()=='a'or char.lower()=='e' or char.lower()=='i' or char.lower()=='o' or char.lower()=='u':\n",
    "        print(char,end=\" \")\n",
    "        vowelcount+=1\n",
    "print()\n",
    "print(\"vowerlcount\",vowelcount)"
   ]
  },
  {
   "cell_type": "code",
   "execution_count": 8,
   "id": "ab0be85d",
   "metadata": {},
   "outputs": [
    {
     "name": "stdout",
     "output_type": "stream",
     "text": [
      "Enter a string:welcome\n",
      "e,o,"
     ]
    }
   ],
   "source": [
    "str1=input(\"Enter a string:\")\n",
    "for char in 'aeiou':\n",
    "    if char in str1:\n",
    "        print(char,end=\",\")"
   ]
  },
  {
   "cell_type": "code",
   "execution_count": 14,
   "id": "9e4a90a3",
   "metadata": {},
   "outputs": [
    {
     "name": "stdout",
     "output_type": "stream",
     "text": [
      "11\n"
     ]
    }
   ],
   "source": [
    "import random\n",
    "print(random.randint(1,50))"
   ]
  },
  {
   "cell_type": "code",
   "execution_count": 23,
   "id": "a3dacc61",
   "metadata": {},
   "outputs": [
    {
     "name": "stdout",
     "output_type": "stream",
     "text": [
      "Enter THe String :string\n",
      "a occured in  0 times\n",
      "e occured in  0 times\n",
      "i occured in  1 times\n",
      "o occured in  0 times\n",
      "u occured in  0 times\n"
     ]
    }
   ],
   "source": [
    "acount=0\n",
    "ecount=0\n",
    "icount=0\n",
    "ocount=0\n",
    "ucount=0\n",
    "str1=input(\"Enter THe String :\")\n",
    "for char in str1:\n",
    "    if char.lower()=='a':\n",
    "        acount+=1\n",
    "    elif char.lower()==\"e\":\n",
    "        ecount+=1\n",
    "    elif char.lower()==\"i\":\n",
    "        icount+=1\n",
    "    elif char.lower()==\"o\":\n",
    "        ocount+=1\n",
    "    elif char.lower()==\"u\":\n",
    "        ucount+=1\n",
    "print(\"a occured in \",acount, \"times\") \n",
    "print(\"e occured in \",ecount, \"times\") \n",
    "print(\"i occured in \",icount, \"times\") \n",
    "print(\"o occured in \",ocount, \"times\") \n",
    "print(\"u occured in \",ucount, \"times\") \n",
    "    "
   ]
  },
  {
   "cell_type": "code",
   "execution_count": null,
   "id": "5ea6f4a5",
   "metadata": {},
   "outputs": [
    {
     "name": "stdout",
     "output_type": "stream",
     "text": [
      "Guess Random Number\n",
      "Enter a number between 1 to 30:5\n",
      "Guessed NUmber is greater\n"
     ]
    }
   ],
   "source": [
    "import random\n",
    "randomnumber=random.randint(1,10)\n",
    "print(\"Guess Random Number\")\n",
    "\n",
    "while(1):\n",
    "    usernumber=int(input(\"Enter a number between 1 to 10:\"))\n",
    "    if randomnumber==usernumber:\n",
    "        print(\"You Guessed it Correct!!!\")\n",
    "        break\n",
    "    elif randomnumber>usernumber:\n",
    "        print(\"guessed number is smaller\",randomnumber)\n",
    "    elif randomnumber<usernumber:\n",
    "        print(\"Guessed NUmber is greater\")"
   ]
  },
  {
   "cell_type": "code",
   "execution_count": null,
   "id": "cf52524a",
   "metadata": {},
   "outputs": [],
   "source": [
    "import random\n",
    "randomnumber=random.randint(1,10)\n",
    "chancenumber=0\n",
    "maxchance=3\n",
    "print(\"Guess Random Number\")\n",
    "\n",
    "while(1):\n",
    "    if chancenumber==maxchance:\n",
    "        print(\"Your chance is over!!!\")\n",
    "    usernumber=int(input(\"Enter a number between 1 to 30:\"))\n",
    "    if randomnumber==usernumber:\n",
    "        print(\"You Guessed it Correct!!!\")\n",
    "        break\n",
    "    elif randomnumber>usernumber:\n",
    "        print(\"guessed number is smaller\")\n",
    "        \n",
    "        \n",
    "    elif randomnumber<usernumber:\n",
    "        print(\"Guessed NUmber is greater\")"
   ]
  }
 ],
 "metadata": {
  "kernelspec": {
   "display_name": "Python 3 (ipykernel)",
   "language": "python",
   "name": "python3"
  },
  "language_info": {
   "codemirror_mode": {
    "name": "ipython",
    "version": 3
   },
   "file_extension": ".py",
   "mimetype": "text/x-python",
   "name": "python",
   "nbconvert_exporter": "python",
   "pygments_lexer": "ipython3",
   "version": "3.11.5"
  }
 },
 "nbformat": 4,
 "nbformat_minor": 5
}
