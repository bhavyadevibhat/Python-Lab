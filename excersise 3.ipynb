{
 "cells": [
  {
   "cell_type": "code",
   "execution_count": 4,
   "id": "bb4255f4",
   "metadata": {},
   "outputs": [
    {
     "name": "stdout",
     "output_type": "stream",
     "text": [
      "enter numbers seperated by comma :3,6,3,7,8,5,5\n",
      "List : [3, 6, 3, 7, 8, 5, 5]\n",
      "new List : [3, 6, 7, 8, 5]\n"
     ]
    }
   ],
   "source": [
    "n=input(\"enter numbers seperated by comma :\")\n",
    "t=list(map(int,n.split(',')))\n",
    "print(\"List :\",t)\n",
    "new_list=[]\n",
    "for item in t:\n",
    "    if item not in new_list:\n",
    "        new_list.append(item)\n",
    "print(\"new List :\",new_list)"
   ]
  },
  {
   "cell_type": "code",
   "execution_count": 5,
   "id": "4caf9c67",
   "metadata": {},
   "outputs": [
    {
     "name": "stdout",
     "output_type": "stream",
     "text": [
      "Good Morning\n",
      "Good Morning\n",
      "Good\n",
      "   Morning\n",
      "    To\n",
      "      All\n"
     ]
    }
   ],
   "source": [
    "s=\"Good Morning\"\n",
    "t='Good Morning'\n",
    "m=\"\"\"Good\n",
    "   Morning\n",
    "    To\n",
    "      All\"\"\"\n",
    "print(s)\n",
    "print(t)\n",
    "print(m)"
   ]
  },
  {
   "cell_type": "code",
   "execution_count": 8,
   "id": "e14b8c5e",
   "metadata": {},
   "outputs": [
    {
     "name": "stdout",
     "output_type": "stream",
     "text": [
      "46 50 299\n"
     ]
    }
   ],
   "source": [
    "a=0o56\n",
    "b=50\n",
    "c=0x12b\n",
    "print(a,b,c)"
   ]
  },
  {
   "cell_type": "code",
   "execution_count": null,
   "id": "6068fb5f",
   "metadata": {},
   "outputs": [],
   "source": []
  }
 ],
 "metadata": {
  "kernelspec": {
   "display_name": "Python 3 (ipykernel)",
   "language": "python",
   "name": "python3"
  },
  "language_info": {
   "codemirror_mode": {
    "name": "ipython",
    "version": 3
   },
   "file_extension": ".py",
   "mimetype": "text/x-python",
   "name": "python",
   "nbconvert_exporter": "python",
   "pygments_lexer": "ipython3",
   "version": "3.11.5"
  }
 },
 "nbformat": 4,
 "nbformat_minor": 5
}
