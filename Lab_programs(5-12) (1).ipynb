{
 "cells": [
  {
   "cell_type": "code",
   "execution_count": 2,
   "id": "5bef9a5c",
   "metadata": {},
   "outputs": [
    {
     "name": "stdout",
     "output_type": "stream",
     "text": [
      "This is child Class!\n",
      "This is parent Class!\n"
     ]
    }
   ],
   "source": [
    "class parent:\n",
    "    def parent(self):\n",
    "        print(\"This is parent Class!\")\n",
    "class child(parent):\n",
    "    def child(self):\n",
    "        print(\"This is child Class!\")\n",
    "object=child()\n",
    "object.child()\n",
    "object.parent()\n",
    "        "
   ]
  },
  {
   "cell_type": "code",
   "execution_count": 18,
   "id": "737cb44e",
   "metadata": {},
   "outputs": [
    {
     "name": "stdout",
     "output_type": "stream",
     "text": [
      "father: <b>SHiv<b>\n",
      "mother: Parvathi\n"
     ]
    }
   ],
   "source": [
    "class mother:\n",
    "    mothername=\"\"\n",
    "    def mother(self):\n",
    "        print(self.mothername)\n",
    "class father:\n",
    "    fathername=\"\"\n",
    "    def father(self):\n",
    "        print(self.fathername)\n",
    "class child(mother,father):\n",
    "    def child(self):\n",
    "        print(\"father:\",self.fathername)\n",
    "        print(\"mother:\",self.mothername)\n",
    "object=child()\n",
    "object.fathername=\"SHiv\"\n",
    "object.mothername=\"Parvathi\"\n",
    "object.child()"
   ]
  },
  {
   "cell_type": "code",
   "execution_count": 21,
   "id": "29c23785",
   "metadata": {},
   "outputs": [
    {
     "data": {
      "text/plain": [
       "<function __main__.mother.mother(self)>"
      ]
     },
     "execution_count": 21,
     "metadata": {},
     "output_type": "execute_result"
    }
   ],
   "source": [
    "class mother:\n",
    "    mothername=\"Sitha\"\n",
    "    def mother(self):\n",
    "        print(self.mothername)\n",
    "class father:\n",
    "    fathername=\"Ram\"\n",
    "    def father(self):\n",
    "        print(self.fathername)\n",
    "obj1=mother\n",
    "obj2=father\n",
    "obj1.mother\n",
    "obj2.father\n",
    "\n"
   ]
  },
  {
   "cell_type": "code",
   "execution_count": 24,
   "id": "0727c86b",
   "metadata": {},
   "outputs": [
    {
     "name": "stdout",
     "output_type": "stream",
     "text": [
      "Employee Id: 101\n",
      "Name: Avinash\n",
      "age: 27\n",
      "department: IT\n",
      "Salary: 30000\n"
     ]
    }
   ],
   "source": [
    "class person:\n",
    "    def __init__(self,uid,name,age):\n",
    "        self.uid=uid\n",
    "        self.name=name\n",
    "        self.age=age\n",
    "    def empdetails(self):\n",
    "        print(\"Employee Id:\",self.uid)\n",
    "        print(\"Name:\",self.name)\n",
    "        print(\"Age:\",self.age)\n",
    "class employee(person):\n",
    "    def __init__(self,uid,name,age,department,salary):\n",
    "        super(employee,self).__init__(uid,name,age)\n",
    "        self.department=department\n",
    "        self.salary=salary\n",
    "    def empdetails(self):\n",
    "        print(\"Employee Id:\",self.uid)\n",
    "        print(\"Name:\",self.name)\n",
    "        print(\"age:\",self.age)\n",
    "        print(\"department:\",self.department)\n",
    "        print(\"Salary:\",self.salary)\n",
    "emp1=employee(101,\"Avinash\",27,\"IT\",30000)\n",
    "emp1.empdetails()"
   ]
  },
  {
   "cell_type": "code",
   "execution_count": 31,
   "id": "995ec95d",
   "metadata": {},
   "outputs": [
    {
     "name": "stdout",
     "output_type": "stream",
     "text": [
      "Employee Id: 102\n",
      "Name: Kaushik\n",
      "age: 27\n",
      "department: IT\n",
      "Salary: 50000\n",
      "Manager Id: 2277\n",
      "Manager name: Akshay\n",
      "Employee Id: 101\n",
      "Name: Avinash\n",
      "age: 27\n",
      "department: IT\n",
      "Salary: 30000\n"
     ]
    }
   ],
   "source": [
    "class person:\n",
    "    def __init__(self,uid,name,age):\n",
    "        self.uid=uid\n",
    "        self.name=name\n",
    "        self.age=age\n",
    "    def empdetails(self):\n",
    "        print(\"Employee Id:\",self.uid)\n",
    "        print(\"Name:\",self.name)\n",
    "        print(\"Age:\",self.age)\n",
    "class employee(person):\n",
    "    def __init__(self,uid,name,age,designation,salary):\n",
    "        super(employee,self).__init__(uid,name,age)\n",
    "        self.designation=designation\n",
    "        self.salary=salary\n",
    "    def empdetails(self):\n",
    "        print(\"Employee Id:\",self.uid)\n",
    "        print(\"Name:\",self.name)\n",
    "        print(\"age:\",self.age)\n",
    "        print(\"department:\",self.designation)\n",
    "        print(\"Salary:\",self.salary)\n",
    "class department(employee):\n",
    "    def __init__(self,uid,name,age,designation,salary,managerid,managername):\n",
    "        super(department,self).__init__(uid,name,age,designation,salary)\n",
    "        self.managerid=managerid\n",
    "        self.managername=managername\n",
    "    def empdetails(self):\n",
    "        print(\"Employee Id:\",self.uid)\n",
    "        print(\"Name:\",self.name)\n",
    "        print(\"age:\",self.age)\n",
    "        print(\"department:\",self.designation)\n",
    "        print(\"Salary:\",self.salary)\n",
    "        print(\"Manager Id:\",self.managerid)\n",
    "        print(\"Manager name:\",self.managername)\n",
    "dept1=department(102,\"Kaushik\",27,\"IT\",50000,2277,\"Akshay\")\n",
    "dept1.empdetails()\n",
    "emp1=employee(101,\"Avinash\",27,\"IT\",30000)\n",
    "emp1.empdetails()"
   ]
  },
  {
   "cell_type": "code",
   "execution_count": 6,
   "id": "cb290a7a",
   "metadata": {},
   "outputs": [
    {
     "name": "stdout",
     "output_type": "stream",
     "text": [
      "Enter Register Number:101\n",
      "Enter Name:ashitha\n",
      "Enter Course:msc\n",
      "Enter Mark:89\n",
      "Enter Mark:98\n",
      "Enter Mark:90\n",
      "Enter Mark:97\n",
      "Enter Mark:96\n",
      "-------------------------------------------------------------------------------\n",
      "Reg No:\t\tName:\t\tCourse:\t\tMarks:\n",
      "-------------------------------------------------------------------------------\n",
      "101\t\tashitha\t\tmsc\t\t[89, 98, 90, 97, 96]\n",
      "TOtal marks: 470\n",
      "Average: 94.0\n",
      "A Grade\n"
     ]
    }
   ],
   "source": [
    "class student:\n",
    "    def __init__(self,regno,name,course,marks):\n",
    "        self.regno=regno\n",
    "        self.name=name\n",
    "        self.course=course\n",
    "        self.marks=marks\n",
    "    def studentdetails(self):\n",
    "        print(\"-------------------------------------------------------------------------------\")\n",
    "        print(\"Reg No:\",end=\"\\t\\t\")\n",
    "        print(\"Name:\",end=\"\\t\\t\")\n",
    "        print(\"Course:\",end=\"\\t\\t\")\n",
    "        print(\"Marks:\")\n",
    "        print(\"-------------------------------------------------------------------------------\")\n",
    "        print(self.regno,end=\"\\t\\t\")\n",
    "        print(self.name,end=\"\\t\\t\")\n",
    "        print(self.course,end=\"\\t\\t\")\n",
    "        print(self.marks)\n",
    "        print()\n",
    "    def total(self):\n",
    "        print(\"TOtal marks:\",sum(marks))\n",
    "    def average(self):\n",
    "        total=sum(marks)\n",
    "        avg=total/5\n",
    "        print(\"Average:\",avg)\n",
    "    def grade(self):\n",
    "        total=sum(marks)\n",
    "        avg=total/5\n",
    "        if avg>=80 and avg<=100:\n",
    "            print(\"A Grade\")\n",
    "        elif avg>=60 and avg<80:\n",
    "            print(\"B Grade\")\n",
    "        elif avg>=45 and avg<60:\n",
    "            print(\"C Grade\")\n",
    "        elif avg>=35 and avg<45:\n",
    "            print(\"D Grade\")\n",
    "        elif avg<35:\n",
    "            print(\"Fail\")\n",
    "        else:\n",
    "            print(\"Invalid marks\")    \n",
    "regno=int(input(\"Enter Register Number:\"))\n",
    "name=input(\"Enter Name:\")\n",
    "course=input(\"Enter Course:\")\n",
    "marks=[]\n",
    "for i in range(5):\n",
    "          marks.append(int(input(\"Enter Mark:\")))\n",
    "std=student(regno,name,course,marks)\n",
    "std.studentdetails()\n",
    "std.total()\n",
    "std.average()\n",
    "std.grade()"
   ]
  },
  {
   "cell_type": "code",
   "execution_count": 17,
   "id": "95f0a446",
   "metadata": {},
   "outputs": [
    {
     "name": "stdout",
     "output_type": "stream",
     "text": [
      "Enter Register Number:101\n",
      "Enter Name:Rock\n",
      "Enter Designation:Developer\n",
      "Enter Basic Salary:34000\n",
      "Enter Register Number:102\n",
      "Enter Name:John\n",
      "Enter Designation:Product manager\n",
      "Enter Basic Salary:45000\n",
      "Enter Register Number:103\n",
      "Enter Name:Delma\n",
      "Enter Designation:Technical Lead\n",
      "Enter Basic Salary:40000\n",
      "Enter Register Number:104\n",
      "Enter Name:Shirla\n",
      "Enter Designation:Accountant\n",
      "Enter Basic Salary:35000\n",
      "Enter Register Number:105\n",
      "Enter Name:Ramya\n",
      "Enter Designation:Designer\n",
      "Enter Basic Salary:25000\n",
      "******************************Employee Details*********************************************************\n",
      "-------------------------------------------------------------------------------------------------------\n",
      "Emp Id:\t\tName:\t\tdepartment:\t\tSalary:\t\tGross Salary:\t\tNet salary:\n",
      "-------------------------------------------------------------------------------------------------------\n",
      "101\t\tRock\t\tDeveloper\t\t34000.0\t\t39100.0\t\t\t35360.0\n",
      "102\t\tJohn\t\tProduct manager\t\t45000.0\t\t51750.0\t\t\t46800.0\n",
      "103\t\tDelma\t\tTechnical Lead\t\t40000.0\t\t46000.0\t\t\t41600.0\n",
      "104\t\tShirla\t\tAccountant\t\t25000.0\t\t28750.0\t\t\t26000.0\n",
      "105\t\tRamya\t\tDesigner\t\t25000.0\t\t28750.0\t\t\t26000.0\n"
     ]
    }
   ],
   "source": [
    "class employee:\n",
    "    def __init__(self,empid,name,designation,salary):\n",
    "        self.empid=empid\n",
    "        self.name=name\n",
    "        self.designation=designation\n",
    "        self.salary=salary\n",
    "    def empdetails(self):\n",
    "        print(self.empid,end=\"\\t\\t\")\n",
    "        print(self.name,end=\"\\t\\t\")\n",
    "        print(self.designation,end=\"\\t\\t\")\n",
    "        print(self.salary,end=\"\\t\\t\")\n",
    "        print(self.grosssal(),end=\"\\t\\t\\t\")\n",
    "        print(self.netsal())\n",
    "    def grosssal(self):\n",
    "        DA=5/100*self.salary\n",
    "        HRA=10/100*self.salary\n",
    "        gross=self.salary+DA+HRA\n",
    "        return gross\n",
    "    def netsal(self):\n",
    "        LIC=3/100*self.salary\n",
    "        PF=8/100*self.salary\n",
    "        deduction=LIC+PF\n",
    "        netsalary=self.grosssal()-deduction\n",
    "        return netsalary\n",
    "empid=[]\n",
    "name=[]\n",
    "designation=[]\n",
    "salary=[]\n",
    "for i in range(5):\n",
    "    empid.append(int(input(\"Enter Register Number:\")))\n",
    "    name.append(input(\"Enter Name:\"))\n",
    "    designation.append(input(\"Enter Designation:\"))\n",
    "    salary.append(float(input(\"Enter Basic Salary:\")))\n",
    "\n",
    "emp1=employee(empid[0],name[0],designation[0],salary[0])\n",
    "emp2=employee(empid[1],name[1],designation[1],salary[1])\n",
    "emp3=employee(empid[2],name[2],designation[2],salary[2])\n",
    "emp4=employee(empid[3],name[3],designation[3],salary[4])\n",
    "emp5=employee(empid[4],name[4],designation[4],salary[4])\n",
    "print(\"**********************************Employee Details*****************************************************\")\n",
    "print(\"-------------------------------------------------------------------------------------------------------\")\n",
    "print(\"Emp Id:\",end=\"\\t\\t\")\n",
    "print(\"Name:\",end=\"\\t\\t\")\n",
    "print(\"department:\",end=\"\\t\\t\")\n",
    "print(\"Salary:\",end=\"\\t\\t\")\n",
    "print(\"Gross Salary:\",end=\"\\t\\t\")\n",
    "print(\"Net salary:\")\n",
    "print(\"-------------------------------------------------------------------------------------------------------\")\n",
    "emp1.empdetails()\n",
    "emp2.empdetails()\n",
    "emp3.empdetails()\n",
    "emp4.empdetails()\n",
    "emp5.empdetails()\n",
    "\n",
    "\n",
    "        "
   ]
  },
  {
   "cell_type": "code",
   "execution_count": null,
   "id": "dfbc1a34",
   "metadata": {},
   "outputs": [],
   "source": []
  },
  {
   "cell_type": "code",
   "execution_count": null,
   "id": "00db725d",
   "metadata": {},
   "outputs": [],
   "source": []
  }
 ],
 "metadata": {
  "kernelspec": {
   "display_name": "Python 3 (ipykernel)",
   "language": "python",
   "name": "python3"
  },
  "language_info": {
   "codemirror_mode": {
    "name": "ipython",
    "version": 3
   },
   "file_extension": ".py",
   "mimetype": "text/x-python",
   "name": "python",
   "nbconvert_exporter": "python",
   "pygments_lexer": "ipython3",
   "version": "3.11.5"
  }
 },
 "nbformat": 4,
 "nbformat_minor": 5
}
