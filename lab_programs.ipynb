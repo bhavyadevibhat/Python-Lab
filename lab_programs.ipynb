{
 "cells": [
  {
   "cell_type": "code",
   "execution_count": 14,
   "id": "b6dd7dd5",
   "metadata": {},
   "outputs": [
    {
     "name": "stdout",
     "output_type": "stream",
     "text": [
      "Enter the size5\n",
      "Enter a element5\n",
      "Enter a element4\n",
      "Enter a element3\n",
      "Enter a element2\n",
      "Enter a element1\n",
      "[5, 4, 3, 2, 1]\n",
      "The second largest element in given list is: 4\n"
     ]
    }
   ],
   "source": [
    "list1=[]\n",
    "n=int(input(\"Enter the size\"))\n",
    "for i in range(n):\n",
    "    list1.append(int(input(\"Enter a element\")))\n",
    "print(list1)\n",
    "largest=0\n",
    "second_largest=0\n",
    "for i in list1:\n",
    "    if i > largest:\n",
    "        second_largest=largest\n",
    "        largest=i\n",
    "    elif i > second_largest and i<largest:\n",
    "        second_largest=i\n",
    "print(\"The second largest element in given list is:\",second_largest)"
   ]
  },
  {
   "cell_type": "code",
   "execution_count": 27,
   "id": "c913e61f",
   "metadata": {},
   "outputs": [
    {
     "name": "stdout",
     "output_type": "stream",
     "text": [
      "Enter size:10\n",
      "Natural numbers are:\n",
      "1 2 3 4 5 6 7 8 9 10 \n",
      "the sum is 55\n"
     ]
    }
   ],
   "source": [
    "sum1=0\n",
    "i=1\n",
    "n=int(input(\"Enter size:\"))\n",
    "print(\"Natural numbers are:\")\n",
    "while(i<=n):\n",
    "    print(i,end=\" \")\n",
    "    sum1+=i;\n",
    "    i+=1;\n",
    "print(\"\\nthe sum is\",sum1)"
   ]
  },
  {
   "cell_type": "code",
   "execution_count": 21,
   "id": "d8794bb8",
   "metadata": {},
   "outputs": [
    {
     "name": "stdout",
     "output_type": "stream",
     "text": [
      "1.Area and Perimeter of Circle\n",
      "2.Area and Perimeter of rectangle\n",
      "3.Area and Perimeter triangle\n",
      "4.exit\n",
      "Enter your choice:1\n",
      "Enter Radius:5\n",
      "Area of  circle : 78.5\n",
      "Perimeter of circle: 31.400000000000002\n",
      "1.Area and Perimeter of Circle\n",
      "2.Area and Perimeter of rectangle\n",
      "3.Area and Perimeter triangle\n",
      "4.exit\n",
      "Enter your choice:2\n",
      "Enter length of rectangle:7\n",
      "Enter breadth of rectangle:4\n",
      "Area of rectangle is: 28.0\n",
      "Perimeter of rectangle : 22.0\n",
      "1.Area and Perimeter of Circle\n",
      "2.Area and Perimeter of rectangle\n",
      "3.Area and Perimeter triangle\n",
      "4.exit\n",
      "Enter your choice:3\n",
      "Enter base of triangle:6\n",
      "Enter height of triangle:5\n",
      "Area of triangle: 15.0\n",
      "Enter side1 of triangle:5\n",
      "Enter side2 of triangle:7\n",
      "Perimeter of triangle is: 18.0\n",
      "1.Area and Perimeter of Circle\n",
      "2.Area and Perimeter of rectangle\n",
      "3.Area and Perimeter triangle\n",
      "4.exit\n",
      "Enter your choice:4\n"
     ]
    }
   ],
   "source": [
    "def acircle(r):\n",
    "    return 3.14*r*r\n",
    "def pcircle(r):\n",
    "    return 3.14*2*r\n",
    "def arectangle(l,b):\n",
    "    return l*b\n",
    "def prectangle(l,b):\n",
    "    return 2*(l+b)\n",
    "def atriangle(b,h):\n",
    "    return 0.5*b*h\n",
    "def ptriangle(b,s1,s2):\n",
    "    return b+s1+s2\n",
    "while(1):\n",
    "    print(\"1.Area and Perimeter of Circle\\n2.Area and Perimeter of rectangle\\n3.Area and Perimeter triangle\\n4.exit\")\n",
    "    choice=int(input(\"Enter your choice:\"))\n",
    "    if choice==1:\n",
    "        radius=float(input(\"Enter Radius:\"))\n",
    "        print(\"Area of  circle :\",acircle(radius))\n",
    "        print(\"Perimeter of circle:\",pcircle(radius))\n",
    "    elif choice==2:\n",
    "        length=float(input(\"Enter length of rectangle:\"))\n",
    "        breadth=float(input(\"Enter breadth of rectangle:\"))\n",
    "        print(\"Area of rectangle is:\",arectangle(length,breadth))\n",
    "        print(\"Perimeter of rectangle :\",prectangle(length,breadth))\n",
    "    elif choice==3:\n",
    "        base=float(input(\"Enter base of triangle:\"))\n",
    "        height=float(input(\"Enter height of triangle:\"))\n",
    "        print(\"Area of triangle:\",atriangle(base,height))\n",
    "        side1=float(input(\"Enter side1 of triangle:\"))\n",
    "        side2=float(input(\"Enter side2 of triangle:\"))\n",
    "        print(\"Perimeter of triangle is:\",ptriangle(base,side1,side2))\n",
    "    elif choice==4:\n",
    "        break\n",
    "    else:\n",
    "        print(\"Invalid Choice\")\n",
    "\n",
    "\n"
   ]
  },
  {
   "cell_type": "code",
   "execution_count": 22,
   "id": "da1bfb0e",
   "metadata": {},
   "outputs": [
    {
     "name": "stdout",
     "output_type": "stream",
     "text": [
      "********************************************************************\n",
      " 1.Additon\n",
      " 2.Substraction\n",
      " 3.Multiplication\n",
      " 4.Division\n",
      " 5.Exit\n",
      "********************************************************************\n",
      "Enter your choice:1\n",
      "Enter First number:3\n",
      "Enter second number4\n",
      "The Adittion of given number is :  7.0\n",
      "********************************************************************\n",
      " 1.Additon\n",
      " 2.Substraction\n",
      " 3.Multiplication\n",
      " 4.Division\n",
      " 5.Exit\n",
      "********************************************************************\n",
      "Enter your choice:2\n",
      "Enter First number:5\n",
      "Enter second number4\n",
      "The Difference of given number is :  1.0\n",
      "********************************************************************\n",
      " 1.Additon\n",
      " 2.Substraction\n",
      " 3.Multiplication\n",
      " 4.Division\n",
      " 5.Exit\n",
      "********************************************************************\n",
      "Enter your choice:3\n",
      "Enter First number:5\n",
      "Enter second number6\n",
      "The Multiplication of given number is :  30.0\n",
      "********************************************************************\n",
      " 1.Additon\n",
      " 2.Substraction\n",
      " 3.Multiplication\n",
      " 4.Division\n",
      " 5.Exit\n",
      "********************************************************************\n",
      "Enter your choice:4\n",
      "Enter First number:3\n",
      "Enter second number2\n",
      "The Division of given number is :  1.5\n",
      "********************************************************************\n",
      " 1.Additon\n",
      " 2.Substraction\n",
      " 3.Multiplication\n",
      " 4.Division\n",
      " 5.Exit\n",
      "********************************************************************\n",
      "Enter your choice:5\n"
     ]
    }
   ],
   "source": [
    "def add(num1,num2):\n",
    "    return num1+num2\n",
    "def sub(num1,num2):\n",
    "    return num1-num2\n",
    "def mul(num1,num2):\n",
    "    return num1*num2\n",
    "def div(num1,num2):\n",
    "    return num1/num2\n",
    "while(1):\n",
    "    print(\"********************************************************************\")\n",
    "    print(\" 1.Additon\\n 2.Substraction\\n 3.Multiplication\\n 4.Division\\n 5.Exit\")\n",
    "    print(\"********************************************************************\")\n",
    "    choice=int(input(\"Enter your choice:\"))\n",
    "    if choice==1:\n",
    "        a=float(input(\"Enter First number:\"))\n",
    "        b=float(input(\"Enter second number\"))\n",
    "        print(\"The Adittion of given number is : \",add(a,b))\n",
    "    elif choice==2:\n",
    "        a=float(input(\"Enter First number:\"))\n",
    "        b=float(input(\"Enter second number\"))\n",
    "        print(\"The Difference of given number is : \",sub(a,b))\n",
    "    elif choice==3:\n",
    "        a=float(input(\"Enter First number:\"))\n",
    "        b=float(input(\"Enter second number\"))\n",
    "        print(\"The Multiplication of given number is : \",mul(a,b))\n",
    "    elif choice==4:\n",
    "        a=float(input(\"Enter First number:\"))\n",
    "        b=float(input(\"Enter second number\"))\n",
    "        print(\"The Division of given number is : \",div(a,b))\n",
    "    elif choice==5:\n",
    "        break\n",
    "    else:\n",
    "        print(\"Invalid Choice\")\n",
    "        \n",
    "    "
   ]
  },
  {
   "cell_type": "code",
   "execution_count": 26,
   "id": "309bc7da",
   "metadata": {},
   "outputs": [
    {
     "name": "stdout",
     "output_type": "stream",
     "text": [
      "Enter the value of n:4\n",
      "the sum of given series is:2.71\n"
     ]
    }
   ],
   "source": [
    "n= int(input(\"Enter the value of n:\"))\n",
    "sumofseries=1\n",
    "for i in range(1,n+1):\n",
    "    fact=1\n",
    "    for j in range(1,i+1):\n",
    "        fact*=j\n",
    "    sumofseries +=1/fact\n",
    "print(\"the sum of given series is:{:.2f}\".format(sumofseries))"
   ]
  },
  {
   "cell_type": "code",
   "execution_count": 28,
   "id": "e69b0192",
   "metadata": {},
   "outputs": [
    {
     "name": "stdout",
     "output_type": "stream",
     "text": [
      "Enter the value of a:1\n",
      "Enter the value of b:2\n",
      "Enter the value of c:1\n",
      "quadratic equation has two real, different roots\n",
      "root1=-0.88\n",
      "root2=-1.12\n"
     ]
    }
   ],
   "source": [
    "import math\n",
    "a=float(input(\"Enter the value of a:\"))\n",
    "b=float(input(\"Enter the value of b:\"))\n",
    "c=float(input(\"Enter the value of c:\"))\n",
    "discriminent=b**-4*a*c\n",
    "if(discriminent==0):\n",
    "    root= -b/(2*a)\n",
    "    print(\"Quadratic equation has two real,identical roots\")\n",
    "    print(\"root=\",root)\n",
    "elif(discriminent>0):\n",
    "    root1= (-b+ math.sqrt(discriminent))/(2*a)\n",
    "    root2= (-b- math.sqrt(discriminent))/(2*a)\n",
    "    print(\"quadratic equation has two real, different roots\")\n",
    "    print(\"root1={:.2f}\".format(root1))\n",
    "    print(\"root2={:.2f}\".format(root2))\n",
    "else:\n",
    "    print(\"quadratic equation has no real roots\")\n",
    "    positivesqrt=math.sqrt(abs(discriminent))\n",
    "    print(\"Root1=\",-b/(2*a),\"+{:.2f}\".format(positivesqrt/(2*a)),\"i\")\n",
    "    print(\"Root1=\",-b/(2*a),\"-{:.2f}\".format(positivesqrt/(2*a)),\"i\")\n",
    "    \n",
    "    \n",
    "\n",
    "    "
   ]
  },
  {
   "cell_type": "code",
   "execution_count": null,
   "id": "0a1b89f6",
   "metadata": {},
   "outputs": [],
   "source": []
  }
 ],
 "metadata": {
  "kernelspec": {
   "display_name": "Python 3 (ipykernel)",
   "language": "python",
   "name": "python3"
  },
  "language_info": {
   "codemirror_mode": {
    "name": "ipython",
    "version": 3
   },
   "file_extension": ".py",
   "mimetype": "text/x-python",
   "name": "python",
   "nbconvert_exporter": "python",
   "pygments_lexer": "ipython3",
   "version": "3.9.18"
  }
 },
 "nbformat": 4,
 "nbformat_minor": 5
}
