{
 "cells": [
  {
   "cell_type": "code",
   "execution_count": 6,
   "id": "1cc91406",
   "metadata": {},
   "outputs": [
    {
     "name": "stdout",
     "output_type": "stream",
     "text": [
      "Enter Radius:6\n",
      "Area of  circle : 113.03999999999999\n",
      "Enter length of rectangle:6\n",
      "Enter breadth of rectangle:5\n",
      "Area of rectangle is: 30\n",
      "Enter base of triangle:4\n",
      "Enter height of triangle:7\n",
      "Area of triangle: 14.0\n"
     ]
    }
   ],
   "source": [
    "\n",
    "def acircle(r):\n",
    "    return 3.14*r*r\n",
    "def arectangle(l,b):\n",
    "    return l*b\n",
    "def atriangle(b,h):\n",
    "    return 0.5*b*h\n",
    "radius=int(input(\"Enter Radius:\"))\n",
    "print(\"Area of  circle :\",acircle(radius))\n",
    "length=int(input(\"Enter length of rectangle:\"))\n",
    "breadth=int(input(\"Enter breadth of rectangle:\"))\n",
    "print(\"Area of rectangle is:\",arectangle(length,breadth))\n",
    "base=int(input(\"Enter base of triangle:\"))\n",
    "height=int(input(\"Enter height of triangle:\"))\n",
    "print(\"Area of triangle:\",atriangle(base,height))\n"
   ]
  },
  {
   "cell_type": "code",
   "execution_count": 9,
   "id": "29df072d",
   "metadata": {},
   "outputs": [
    {
     "name": "stdout",
     "output_type": "stream",
     "text": [
      "1.Area and Perimeter of Circle\n",
      "2.Area and Perimeter of rectangle\n",
      "3.Area and Perimeter triangle\n",
      "4.exit\n",
      "Enter your choice:1\n",
      "Enter Radius:5\n",
      "Area of  circle : 78.5\n",
      "Perimeter of circle: 31.400000000000002\n",
      "1.Area and Perimeter of Circle\n",
      "2.Area and Perimeter of rectangle\n",
      "3.Area and Perimeter triangle\n",
      "4.exit\n",
      "Enter your choice:2\n",
      "Enter length of rectangle:5\n",
      "Enter breadth of rectangle:6\n",
      "Area of rectangle is: 30\n",
      "Perimeter of rectangle : 22\n",
      "1.Area and Perimeter of Circle\n",
      "2.Area and Perimeter of rectangle\n",
      "3.Area and Perimeter triangle\n",
      "4.exit\n",
      "Enter your choice:3\n",
      "Enter base of triangle:5\n",
      "Enter height of triangle:6\n",
      "Area of triangle: 15.0\n",
      "Enter side1 of triangle:4\n",
      "Enter side2 of triangle:6\n",
      "Perimeter of triangle is: 15\n",
      "1.Area and Perimeter of Circle\n",
      "2.Area and Perimeter of rectangle\n",
      "3.Area and Perimeter triangle\n",
      "4.exit\n",
      "Enter your choice:4\n"
     ]
    }
   ],
   "source": [
    "def acircle(r):\n",
    "    return 3.14*r*r\n",
    "def pcircle(r):\n",
    "    return 3.14*2*r\n",
    "def arectangle(l,b):\n",
    "    return l*b\n",
    "def prectangle(l,b):\n",
    "    return 2*(l+b)\n",
    "def atriangle(b,h):\n",
    "    return 0.5*b*h\n",
    "def ptriangle(b,s1,s2):\n",
    "    return b+s1+s2\n",
    "while(1):\n",
    "    print(\"1.Area and Perimeter of Circle\\n2.Area and Perimeter of rectangle\\n3.Area and Perimeter triangle\\n4.exit\")\n",
    "    choice=int(input(\"Enter your choice:\"))\n",
    "    if choice==1:\n",
    "        radius=float(input(\"Enter Radius:\"))\n",
    "        print(\"Area of  circle :\",acircle(radius))\n",
    "        print(\"Perimeter of circle:\",pcircle(radius))\n",
    "    elif choice==2:\n",
    "        length=float(input(\"Enter length of rectangle:\"))\n",
    "        breadth=float(input(\"Enter breadth of rectangle:\"))\n",
    "        print(\"Area of rectangle is:\",arectangle(length,breadth))\n",
    "        print(\"Perimeter of rectangle :\",prectangle(length,breadth))\n",
    "    elif choice==3:\n",
    "        base=float(input(\"Enter base of triangle:\"))\n",
    "        height=float(input(\"Enter height of triangle:\"))\n",
    "        print(\"Area of triangle:\",atriangle(base,height))\n",
    "        side1=float(input(\"Enter side1 of triangle:\"))\n",
    "        side2=float(input(\"Enter side2 of triangle:\"))\n",
    "        print(\"Perimeter of triangle is:\",ptriangle(base,side1,side2))\n",
    "    elif choice==4:\n",
    "        break\n",
    "    else:\n",
    "        print(\"Invalid Choice\")\n",
    "\n",
    "\n"
   ]
  },
  {
   "cell_type": "code",
   "execution_count": null,
   "id": "75f9987d",
   "metadata": {},
   "outputs": [],
   "source": []
  },
  {
   "cell_type": "code",
   "execution_count": null,
   "id": "1582f08b",
   "metadata": {},
   "outputs": [],
   "source": []
  },
  {
   "cell_type": "code",
   "execution_count": null,
   "id": "71a83644",
   "metadata": {},
   "outputs": [],
   "source": []
  }
 ],
 "metadata": {
  "kernelspec": {
   "display_name": "Python 3 (ipykernel)",
   "language": "python",
   "name": "python3"
  },
  "language_info": {
   "codemirror_mode": {
    "name": "ipython",
    "version": 3
   },
   "file_extension": ".py",
   "mimetype": "text/x-python",
   "name": "python",
   "nbconvert_exporter": "python",
   "pygments_lexer": "ipython3",
   "version": "3.11.5"
  }
 },
 "nbformat": 4,
 "nbformat_minor": 5
}
