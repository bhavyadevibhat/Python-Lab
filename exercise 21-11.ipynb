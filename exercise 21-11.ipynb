{
 "cells": [
  {
   "cell_type": "code",
   "execution_count": 2,
   "id": "2c142f29",
   "metadata": {},
   "outputs": [
    {
     "name": "stdout",
     "output_type": "stream",
     "text": [
      "Enter the size5\n",
      "Enter the element:4\n",
      "Enter the element:5\n",
      "Enter the element:3\n",
      "Enter the element:2\n",
      "Enter the element:1\n",
      "[4, 5, 3, 2, 1]\n",
      "The second largest element is: 4\n"
     ]
    }
   ],
   "source": [
    "list1=[]\n",
    "n=int(input(\"Enter the size\"))\n",
    "for i in range(n):\n",
    "    list1.append(int(input(\"Enter the element:\")))\n",
    "print(list1)\n",
    "list1.sort()\n",
    "print(\"The second largest element is:\",list1[n-2])\n",
    "    \n"
   ]
  },
  {
   "cell_type": "code",
   "execution_count": null,
   "id": "063cb267",
   "metadata": {},
   "outputs": [],
   "source": [
    "list1=[]\n",
    "n=int(input(\"Enter the size\"))\n",
    "for i in range(n):\n",
    "    list1.append(int(input(\"Enter the element:\")))\n",
    "print(list1)\n",
    "def secondlarge(list):\n",
    "    list.sort()\n",
    "    return list[-2]\n",
    "print(\"second largest element in list is:\")\n",
    "print(secondlarge(list1))\n",
    "\n"
   ]
  },
  {
   "cell_type": "code",
   "execution_count": 23,
   "id": "c926fdd8",
   "metadata": {},
   "outputs": [
    {
     "name": "stdout",
     "output_type": "stream",
     "text": [
      "Enter the size5\n",
      "Enter the element:3\n",
      "Enter the element:4\n",
      "Enter the element:6\n",
      "Enter the element:7\n",
      "Enter the element:5\n",
      "None\n",
      "[3, 4, 6, 7, 5, 'mango', 'banana', 'apple', 'grapes', 'orange']\n",
      "After poping 3rd element: [3, 4, 6, 5, 'mango', 'banana', 'apple', 'grapes', 'orange']\n",
      "After removing: [3, 4, 6, 5, 'banana', 'apple', 'grapes', 'orange']\n"
     ]
    },
    {
     "ename": "TypeError",
     "evalue": "'<' not supported between instances of 'str' and 'int'",
     "output_type": "error",
     "traceback": [
      "\u001b[1;31m---------------------------------------------------------------------------\u001b[0m",
      "\u001b[1;31mTypeError\u001b[0m                                 Traceback (most recent call last)",
      "Cell \u001b[1;32mIn[23], line 16\u001b[0m\n\u001b[0;32m     14\u001b[0m list1\u001b[38;5;241m.\u001b[39mremove(\u001b[38;5;124m\"\u001b[39m\u001b[38;5;124mmango\u001b[39m\u001b[38;5;124m\"\u001b[39m)\n\u001b[0;32m     15\u001b[0m \u001b[38;5;28mprint\u001b[39m(\u001b[38;5;124m\"\u001b[39m\u001b[38;5;124mAfter removing:\u001b[39m\u001b[38;5;124m\"\u001b[39m,list1)\n\u001b[1;32m---> 16\u001b[0m list1\u001b[38;5;241m.\u001b[39msort()\n\u001b[0;32m     17\u001b[0m \u001b[38;5;28mprint\u001b[39m(\u001b[38;5;124m\"\u001b[39m\u001b[38;5;124mthe sorted elements are:\u001b[39m\u001b[38;5;124m\"\u001b[39m,list1)\n",
      "\u001b[1;31mTypeError\u001b[0m: '<' not supported between instances of 'str' and 'int'"
     ]
    }
   ],
   "source": [
    "list1=[]\n",
    "count=0\n",
    "n=int(input(\"Enter the size\"))\n",
    "fruits=[\"banana\",\"apple\",\"grapes\"]\n",
    "for i in range(n):\n",
    "    list1.append(int(input(\"Enter the element:\")))\n",
    "list1.extend(fruits)\n",
    "print(list2)\n",
    "list1.append(\"orange\")\n",
    "list1.insert(5,\"mango\")\n",
    "print(list1)\n",
    "list1.pop(3)\n",
    "print(\"After poping 3rd element:\",list1)\n",
    "list1.remove(\"mango\")\n",
    "print(\"After removing:\",list1)\n",
    "\n"
   ]
  },
  {
   "cell_type": "code",
   "execution_count": 29,
   "id": "f3937b22",
   "metadata": {},
   "outputs": [
    {
     "name": "stdout",
     "output_type": "stream",
     "text": [
      "Enter the size5\n",
      "Enter the element:6\n",
      "Enter the element:4\n",
      "Enter the element:5\n",
      "Enter the element:6\n",
      "Enter the element:8\n",
      "[6, 4, 5, 6, 8]\n",
      "after appending 6: [6, 4, 5, 6, 8, 6]\n",
      "After poping 3rd element: [6, 4, 5, 8, 6]\n",
      "After removing 6: [4, 5, 8, 6]\n",
      "the count of element 5 is: 1\n",
      "the index value of 6th element is 3\n",
      "the sorted element are [4, 5, 6, 8]\n",
      "the reverse of list is [8, 6, 5, 4]\n",
      "[8, 6, 5, 4, 'banana', 'apple', 'grapes']\n",
      "after inserting mango [8, 6, 5, 4, 'mango', 'banana', 'apple', 'grapes']\n"
     ]
    }
   ],
   "source": [
    "list1=[]\n",
    "count=0\n",
    "n=int(input(\"Enter the size\"))\n",
    "fruits=[\"banana\",\"apple\",\"grapes\"]\n",
    "for i in range(n):\n",
    "    list1.append(int(input(\"Enter the element:\")))\n",
    "print(list1)\n",
    "list1.append(6)\n",
    "print(\"after appending 6:\",list1)\n",
    "list1.pop(3)\n",
    "print(\"After poping 3rd element:\",list1)\n",
    "list1.remove(6)\n",
    "print(\"After removing 6:\",list1)\n",
    "print(\"the count of element 5 is:\",list1.count(5))\n",
    "print(\"the index value of 6th element is\",list1.index(6))\n",
    "list1.sort()\n",
    "print(\"the sorted element are\",list1)\n",
    "list1.reverse()\n",
    "print(\"the reverse of list is\",list1)\n",
    "list1.extend(fruits)\n",
    "print(list1)\n",
    "list1.insert(4,\"mango\")\n",
    "print(\"after inserting mango\",list1)\n",
    "\n"
   ]
  },
  {
   "cell_type": "code",
   "execution_count": 36,
   "id": "4bb78735",
   "metadata": {},
   "outputs": [
    {
     "name": "stdout",
     "output_type": "stream",
     "text": [
      "True\n",
      "True\n"
     ]
    }
   ],
   "source": [
    "list=[0,0,0,0]\n",
    "n=any(list)\n",
    "print(n)\n",
    "m=all(list)\n",
    "print(m)"
   ]
  },
  {
   "cell_type": "code",
   "execution_count": 38,
   "id": "6f6236b0",
   "metadata": {},
   "outputs": [
    {
     "name": "stdout",
     "output_type": "stream",
     "text": [
      "Enter the size5\n",
      "Enter the element:5\n",
      "Enter the element:4\n",
      "Enter the element:3\n",
      "Enter the element:2\n",
      "Enter the element:1\n",
      "[5, 4, 3, 2, 1]\n",
      "The second largest element is: 4\n"
     ]
    }
   ],
   "source": [
    "list1=[]\n",
    "n=int(input(\"Enter the size\"))\n",
    "for i in range(n):\n",
    "    list1.append(int(input(\"Enter the element:\")))\n",
    "print(list1)\n",
    "templist=set(list1)\n",
    "templist.remove(max(list1))\n",
    "print(\"The second largest element is:\",max(templist))"
   ]
  },
  {
   "cell_type": "code",
   "execution_count": 40,
   "id": "197e02d2",
   "metadata": {},
   "outputs": [
    {
     "name": "stdout",
     "output_type": "stream",
     "text": [
      "Enter the size5\n",
      "Enter the element:5\n",
      "Enter the element:4\n",
      "Enter the element:4\n",
      "Enter the element:3\n",
      "Enter the element:2\n",
      "[5, 4, 4, 3, 2]\n",
      "The second largest element is: 4\n"
     ]
    }
   ],
   "source": [
    "list1=[]\n",
    "n=int(input(\"Enter the size\"))\n",
    "for i in range(n):\n",
    "    list1.append(int(input(\"Enter the element:\")))\n",
    "print(list1)\n",
    "templist=list1\n",
    "templist.remove(max(list1))\n",
    "print(\"The second largest element is:\",max(templist))"
   ]
  },
  {
   "cell_type": "code",
   "execution_count": 42,
   "id": "af91249e",
   "metadata": {},
   "outputs": [
    {
     "name": "stdout",
     "output_type": "stream",
     "text": [
      "Enter the value of a5\n",
      "Enter the value of b3\n",
      "Enter the value of c4\n",
      "quadratic equation has two real, different roots\n",
      "root1= -0.25030960050000467\n",
      "root2= -0.3496903994999953\n"
     ]
    }
   ],
   "source": [
    "import math\n",
    "a=float(input(\"Enter the value of a:\"))\n",
    "b=float(input(\"Enter the value of b:\"))\n",
    "c=float(input(\"Enter the value of c:\"))\n",
    "discriminent=b**-4*a*c\n",
    "if(discriminent==0):\n",
    "    root= -b/(2*a)\n",
    "    print(\"Quadratic equation has two real,identical roots\")\n",
    "    print(\"root=\",root)\n",
    "elif(discriminent>0):\n",
    "    root1= (-b+ math.sqrt(discriminent))/(2*a)\n",
    "    root2= (-b- math.sqrt(discriminent))/(2*a)\n",
    "    print(\"quadratic equation has two real, different roots\")\n",
    "    print(\"root1={:.2f}\".format(root1))\n",
    "    print(\"root2={:.2f}\".format(root2))\n",
    "else:\n",
    "    print(\"quadratic equation has no real roots\")\n",
    "    positivesqrt=math.sqrt(abs(discriminent))\n",
    "    print(\"Root1=\",-b/(2*a),\"+{:.2f}\".format(positivesqrt/(2*a)),\"i\")\n",
    "    print(\"Root1=\",-b/(2*a),\"-{:.2f}\".format(positivesqrt/(2*a)),\"i\")\n",
    "    \n",
    "    \n",
    "\n",
    "    \n",
    "    \n",
    "        \n",
    "        "
   ]
  },
  {
   "cell_type": "code",
   "execution_count": null,
   "id": "6ead3c4a",
   "metadata": {},
   "outputs": [],
   "source": [
    "\n",
    "\n",
    "\n"
   ]
  },
  {
   "cell_type": "code",
   "execution_count": null,
   "id": "0621eb2d",
   "metadata": {},
   "outputs": [],
   "source": []
  }
 ],
 "metadata": {
  "kernelspec": {
   "display_name": "Python 3 (ipykernel)",
   "language": "python",
   "name": "python3"
  },
  "language_info": {
   "codemirror_mode": {
    "name": "ipython",
    "version": 3
   },
   "file_extension": ".py",
   "mimetype": "text/x-python",
   "name": "python",
   "nbconvert_exporter": "python",
   "pygments_lexer": "ipython3",
   "version": "3.11.5"
  }
 },
 "nbformat": 4,
 "nbformat_minor": 5
}
